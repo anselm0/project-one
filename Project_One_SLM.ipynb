{
 "cells": [
  {
   "cell_type": "code",
   "execution_count": 140,
   "metadata": {},
   "outputs": [],
   "source": [
    "# Dependencies\n",
    "import tweepy\n",
    "import json\n",
    "import pandas as pd\n",
    "import requests as req\n",
    "\n",
    "\n",
    "api_key = '4GFAEI5O82MQWDKF'\n",
    "\n",
    "url = \"https://www.alphavantage.co/query?function=TIME_SERIES_Daily&symbol=MSFT&apikey=\"\n",
    "url2 = \"https://www.alphavantage.co/query?function=TIME_SERIES_Daily&symbol=\"\n",
    "\n",
    "N = 5\n",
    "# N = number of days from Current day"
   ]
  },
  {
   "cell_type": "code",
   "execution_count": 141,
   "metadata": {},
   "outputs": [],
   "source": [
    "# Loop through the list of Stocks and perform a request for data on each\n",
    "stock_list = []\n",
    "stock_list1 = ['DJI','SPX','NDX']\n",
    "for stock in stock_list1:\n",
    "\n",
    "        response = req.get(url2 + stock + \"&apikey=\" + api_key).json()\n",
    "        stock_list.append(response)\n",
    "        #print(query_url + city)\n",
    "    \n"
   ]
  },
  {
   "cell_type": "code",
   "execution_count": 142,
   "metadata": {},
   "outputs": [
    {
     "name": "stdout",
     "output_type": "stream",
     "text": [
      "2018-03-10 11:44:09.486231\n",
      "2018-03-05 11:44:09.486195\n"
     ]
    }
   ],
   "source": [
    "# Find N date in relation to today\n",
    "from datetime import datetime, timedelta\n",
    "\n",
    "date_N_days_ago = datetime.now() - timedelta(days=N)\n",
    "\n",
    "print(datetime.now())\n",
    "print(date_N_days_ago)"
   ]
  },
  {
   "cell_type": "code",
   "execution_count": 143,
   "metadata": {},
   "outputs": [
    {
     "name": "stdout",
     "output_type": "stream",
     "text": [
      "2018-03-05 11:44:09.486195\n",
      "2018-03-05\n"
     ]
    }
   ],
   "source": [
    "# Format date string\n",
    "from dateutil.parser import parse\n",
    "test = str(date_N_days_ago)\n",
    "dt = parse(test)\n",
    "print(dt)\n",
    "# datetime.datetime(2010, 2, 15, 0, 0)\n",
    "print(dt.strftime('%Y-%m-%d'))\n",
    "# 15/02/2010"
   ]
  },
  {
   "cell_type": "code",
   "execution_count": 144,
   "metadata": {},
   "outputs": [],
   "source": [
    "# Parse Dictionary and grab elements\n",
    "symbol = [data.get('Meta Data').get(\"2. Symbol\") for data in stock_list]\n",
    "High_data = [data.get('Time Series (Daily)').get(dt.strftime('%Y-%m-%d')).get('2. high') for data in stock_list]\n",
    "Open_data = [data.get('Time Series (Daily)').get(dt.strftime('%Y-%m-%d')).get('1. open') for data in stock_list]\n",
    "Low_data = [data.get('Time Series (Daily)').get(dt.strftime('%Y-%m-%d')).get('3. low') for data in stock_list]\n",
    "Close_data = [data.get('Time Series (Daily)').get(dt.strftime('%Y-%m-%d')).get('4. close') for data in stock_list]\n",
    "Volume_data = [data.get('Time Series (Daily)').get(dt.strftime('%Y-%m-%d')).get('5. volume') for data in stock_list]\n",
    "#Date = [data.get(dt.strftime('%Y-%m-%d')) for data in stock_list]\n"
   ]
  },
  {
   "cell_type": "code",
   "execution_count": 145,
   "metadata": {},
   "outputs": [],
   "source": [
    "#Build dataframe\n",
    "Stocks = {\"Symbol\": symbol, \"Open\": Open_data, \"Close\": Close_data, \"Low\": Low_data, \"High\": High_data, \n",
    "                 \"Volume\": Volume_data, \"Date_Run\": dt.strftime('%Y-%m-%d')}"
   ]
  },
  {
   "cell_type": "code",
   "execution_count": 146,
   "metadata": {
    "collapsed": true
   },
   "outputs": [],
   "source": [
    "Stocks_df = pd.DataFrame(Stocks)"
   ]
  },
  {
   "cell_type": "code",
   "execution_count": 147,
   "metadata": {
    "collapsed": true
   },
   "outputs": [],
   "source": [
    "Stock_test_df = Stocks_df.reindex(columns=['Symbol','Volume', 'Open','Close','Low','High','Date_Run'])"
   ]
  },
  {
   "cell_type": "code",
   "execution_count": 148,
   "metadata": {},
   "outputs": [
    {
     "name": "stdout",
     "output_type": "stream",
     "text": [
      "                               Symbol      Volume        Open       Close  \\\n",
      "0  Dow Jones Industrial Average Index   383910000  24471.3105  24874.7598   \n",
      "1                        S&P500 Index  3710810000   2681.0601   2720.9399   \n",
      "2                                 NDX  2066350000   6777.6299   6881.2798   \n",
      "\n",
      "          Low        High    Date_Run  \n",
      "0  24387.1504  24961.0000  2018-03-05  \n",
      "1   2675.7500   2728.0901  2018-03-05  \n",
      "2   6753.8301   6901.6299  2018-03-05  \n"
     ]
    }
   ],
   "source": [
    "print(Stock_test_df)"
   ]
  },
  {
   "cell_type": "code",
   "execution_count": null,
   "metadata": {
    "collapsed": true
   },
   "outputs": [],
   "source": []
  }
 ],
 "metadata": {
  "kernelspec": {
   "display_name": "Python 3",
   "language": "python",
   "name": "python3"
  },
  "language_info": {
   "codemirror_mode": {
    "name": "ipython",
    "version": 3
   },
   "file_extension": ".py",
   "mimetype": "text/x-python",
   "name": "python",
   "nbconvert_exporter": "python",
   "pygments_lexer": "ipython3",
   "version": "3.6.3"
  }
 },
 "nbformat": 4,
 "nbformat_minor": 2
}
